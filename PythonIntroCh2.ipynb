{
 "cells": [
  {
   "cell_type": "markdown",
   "source": [
    "< ['programas' sencillos](PythonIntroCh1.ipynb) | [Contenido](PythonIntro.ipynb) | [Ciclos, Ciclos, Ciclos, Ciclos...](PythonIntroCh3.ipynb) >"
   ],
   "metadata": {}
  },
  {
   "cell_type": "markdown",
   "source": [
    "# 2. Programas en un archivo, variables y cadenas\n",
    "## 2.1 Introducción\n",
    "Bien, podemos realizar programas en una sola línea. ¿Asi que? Si deseas enviar programas a otras personas, para que los utilicen sin conocer como son escritos.\n",
    "\n",
    "## 2.2 Escribir Scripts\n",
    "Escribir programas en Python en un archivo es sencillo. Los programas en Python son documentos de texto simple - puedes abrilos en un Block de notas para echarles un vistazo.\n",
    "En la práctica, sin embargo, utilizarás  __[Integrated Development Environment (IDE)](https://en.wikipedia.org/wiki/Integrated_development_environment)__ para desarrollar tus scripts.\n",
    "\n",
    "En este tutorial, utilizaremos las celdas interactivas de Jupyter Notebook como un IDE. Después del tutorial, utilizaremos __[Spyder](https://pythonhosted.org/spyder/)__ que viene con la distribución Python de __[Anaconda](https://www.anaconda.com/download/)__ .\n",
    "\n",
    "Revisemos el programa (`mary.py`) abajo:"
   ],
   "metadata": {}
  },
  {
   "cell_type": "code",
   "execution_count": null,
   "source": [
    "#Un programa sencillo.\n",
    "print(\"Mary tenia una ovejita\")\n",
    "print(\"su pelo era blanco como la nieve;\")\n",
    "print(\"y por todas partes que María iba\", end = \" \")\n",
    "print(\"su ovejita iba con ella.\")"
   ],
   "outputs": [],
   "metadata": {}
  },
  {
   "cell_type": "markdown",
   "source": [
    "Si ejecutas el script (`<shift> + <Return>`) se ejecutará de las líneas 1 a 5, una tras otra. En un IDE, siempre hay una ventana donde puedes teclear el código con \n",
    "una sintaxis resaltada (como aquí), una ventana donde puedes ver las salidas y un botón para ejecutar el script. Los scripts se guardan en un archivo con extensión\n",
    "`.py`. Los scripts se pueden ejecutar desde la línea de comandos - Abre la ventana de la terminal, dirigite a la carpeta  teclea `Python mary.py` . El programa ahora se ejecutará desde la línea de comandos."
   ],
   "metadata": {}
  },
  {
   "cell_type": "markdown",
   "source": [
    "## 2.3 Variables\n",
    "Ahora, iniciaremos una introducción de las variables. Las variables almacenan valores, que pueden revisarse o cambiar posteriormente. Realicemos un programa que utilice variables:"
   ],
   "metadata": {}
  },
  {
   "cell_type": "code",
   "execution_count": null,
   "source": [
    "#Demostración de variables\n",
    "print(\"Este programa es un demo de variables\")\n",
    "v = 1\n",
    "print(\"El valor de la variable v es\", v)\n",
    "v = v + u\n",
    "print(\"la variable v ahora vale más uno, que hace que valga\", v)\n",
    "v = 51\n",
    "print(\"la variable v puede almacenar cualquier valor numérico, que se utilizará en otro lugar.\")\n",
    "print(\"por ejemplo, en una línea. La variable v ahora vale\", v)\n",
    "print(\"multiplica la variable v por 5 es  igual\", v * 5)\n",
    "print(\"pero la variable v aún tiene el valor\", v)\n",
    "print(\"hacer la variable v cinco veces más grande, podrías teclear v = v * 5\")\n",
    "v = v * 5\n",
    "print(\"aquí tienes, ahora la variable v es igual\", v, \"y no\", v / 5)"
   ],
   "outputs": [],
   "metadata": {}
  },
  {
   "cell_type": "markdown",
   "source": [
    "Ejecuta el script y trata de entender el resultado."
   ],
   "metadata": {}
  },
  {
   "cell_type": "markdown",
   "source": [
    "Considera que podemos escribir `v = v + 1` como `v += 1`. Esto se puede utilizar en todos los operadores (ejem. `-=`, `*=`,`/=`). Prueba esto en el código de arriba.\n",
    "\n",
    "Es una buena práctica el uso de letras minúsculas o estilo camelCase (mayúsculas y minúsculas) para nombrar a las variables. No utilices caracteres especiales y que no inicien con un número."
   ],
   "metadata": {}
  },
  {
   "cell_type": "markdown",
   "source": [
    "## 2.5 Cadenas (Strings)\n",
    "Como puedes observar, las variables almacenan valores, para su uso posterior. Puedes cambiar los valores en cualquier momento. Las variables contienen cosas como texto, además de números. Una variable que tiene texto es llamada cadena. Prueba este programa:"
   ],
   "metadata": {}
  },
  {
   "cell_type": "code",
   "execution_count": null,
   "source": [
    "#variables de texto, y adición de texto\n",
    "word1 = \"Good\"\n",
    "word2 = \"morning\"\n",
    "word3 = \"to you too!\"\n",
    "print(word1, word2)\n",
    "sentence = word1 + \" \" + word2 + \" \" + word3\n",
    "print(sentence)"
   ],
   "outputs": [],
   "metadata": {}
  },
  {
   "cell_type": "markdown",
   "source": [
    "Como puedes observar, las variables arriba contienen texto. El nombre de las variables pueden ser más largas que una letra - tenemos variables llamadas word1`, `word2`, and `word3`. Como puedes ver, las cadenas pueden sumarse para formar palabras o frases más largas, sin embargo no agrega espacios entre las palabras - de ahí que se colocan dobles comillas `\" \"`  (que coloca un espacio entre ellas).\n",
    "\n",
    "Frecuentemente, requerimos la manipulación de cadenas. Por ejemplo, si requerimos editar los nombres de archivos o realizar selecciones desde el texto. Las cadenas son somilares a las listas  `lists` que aprenderás a manejar después. Operaciones similares llamadas cortes de listas (*list slicing*) aplica a las variables cadenas.\n",
    "\n",
    "Prueba el siguiente código y explica que hace:"
   ],
   "metadata": {}
  },
  {
   "cell_type": "code",
   "execution_count": null,
   "source": [
    "text = \"abcdefghij\"\n",
    "len(text)"
   ],
   "outputs": [],
   "metadata": {}
  },
  {
   "cell_type": "markdown",
   "source": [
    "Sí, la función len() despliega el tamaño de caracteres en una cadena.\n",
    "\n",
    "Ahora prueba esto:"
   ],
   "metadata": {}
  },
  {
   "cell_type": "code",
   "execution_count": null,
   "source": [
    "print(text[4])"
   ],
   "outputs": [],
   "metadata": {}
  },
  {
   "cell_type": "markdown",
   "source": [
    "Aquí deseamos desplegar el carácter en la posición 4. Considera que el primer caractet \"a\" se encuentra en la posición 0! Así en la posición 4 nos devuelve la letra \"e\".\n",
    "\n",
    "Ahora prueba:"
   ],
   "metadata": {}
  },
  {
   "cell_type": "code",
   "execution_count": null,
   "source": [
    "print(text[:4])"
   ],
   "outputs": [],
   "metadata": {}
  },
  {
   "cell_type": "code",
   "execution_count": null,
   "source": [
    "print(text[4:])"
   ],
   "outputs": [],
   "metadata": {}
  },
  {
   "cell_type": "markdown",
   "source": [
    "Observa que  `[:4]` selecciona los caracteres 0,1,2,3, la cual es \"abcd\". Con  `[4:]` empezamos en la posición (contando desde 0!) hasta el final de la cadena, el cual resulta la cadena \"efghij\".\n",
    "\n",
    "Podemos especificar un rango. Prueba esto:"
   ],
   "metadata": {}
  },
  {
   "cell_type": "code",
   "execution_count": null,
   "source": [
    "print(text[4:8])"
   ],
   "outputs": [],
   "metadata": {}
  },
  {
   "cell_type": "markdown",
   "source": [
    "\n",
    "¿Es lo que esperaba?\n",
    "Con los rangos, el valor máximo no se incluye en la selección.\n",
    "Aún tenemos la variable `sentence` se encuentra disponible. Escribe el código en la celda siguiente, para seleccionar la segunda palabra de una sentencia utilizando el rango correcto."
   ],
   "metadata": {}
  },
  {
   "cell_type": "code",
   "execution_count": null,
   "source": [],
   "outputs": [],
   "metadata": {}
  },
  {
   "cell_type": "markdown",
   "source": [
    "Ahora prueba esto:"
   ],
   "metadata": {}
  },
  {
   "cell_type": "code",
   "execution_count": null,
   "source": [
    "print(text[-2])"
   ],
   "outputs": [],
   "metadata": {}
  },
  {
   "cell_type": "markdown",
   "source": [
    "¿Qué hizó esto?\n",
    "What did it do?\n",
    "Bien!, ha seleccionado el segundo carácter desde la derecha! Observa que se ha empezado con el conteo con -1 para el primer carácter sobre la derecha.\n",
    "\n",
    "Prueba esto:"
   ],
   "metadata": {}
  },
  {
   "cell_type": "code",
   "execution_count": null,
   "source": [
    "print(text[-4:])"
   ],
   "outputs": [],
   "metadata": {}
  },
  {
   "cell_type": "markdown",
   "source": [
    "En lenguaje humano: inicia desde el 4to carácter desde la izquierda y despliega todos los caracteres desde la posición inicial hasta el final de la cadena.\n",
    " \n",
    "Ahora prueba y descubre lo que hace:"
   ],
   "metadata": {}
  },
  {
   "cell_type": "code",
   "execution_count": null,
   "source": [
    "print(text[::2])"
   ],
   "outputs": [],
   "metadata": {}
  },
  {
   "cell_type": "markdown",
   "source": [
    "Podemos también agregar los resultados de *list slicing* a las variables e insertar esto dentro de las cadenas utilizando operaciones de formato:"
   ],
   "metadata": {}
  },
  {
   "cell_type": "code",
   "execution_count": null,
   "source": [
    "nrOfCharacters = len(sentence)\n",
    "lastWord = sentence[-4:-1]\n",
    "print(\"The sentence has {} characters and the last word is: {}\".format(nrOfCharacters,lastWord))"
   ],
   "outputs": [],
   "metadata": {}
  },
  {
   "cell_type": "markdown",
   "source": [
    "Puedes insertar facilmente variables en los lugares de los parentesis (`{}`). Se sustituiran en el mismo orden de las variables en `.format()`"
   ],
   "metadata": {}
  },
  {
   "cell_type": "markdown",
   "source": [
    "This can also be written as:"
   ],
   "metadata": {}
  },
  {
   "cell_type": "code",
   "execution_count": null,
   "source": [
    "print(f\"The sentence has {nrOfCharacters} characters and the last word is: {lastWord}\")"
   ],
   "outputs": [],
   "metadata": {}
  },
  {
   "cell_type": "markdown",
   "source": [
    "Además de la división de la lista *list slicing* hay otras operaciones que se pueden aplicar a las cadenas.\n",
    "Podemos contar el número de ocurrencuas de una carácter específico en una cadena:"
   ],
   "metadata": {}
  },
  {
   "cell_type": "code",
   "execution_count": null,
   "source": [
    "print(sentence.count('o'))"
   ],
   "outputs": [],
   "metadata": {}
  },
  {
   "cell_type": "markdown",
   "source": [
    "Podemos encontrar la posición de un carácter:"
   ],
   "metadata": {}
  },
  {
   "cell_type": "code",
   "execution_count": null,
   "source": [
    "print(text.find('e'))"
   ],
   "outputs": [],
   "metadata": {}
  },
  {
   "cell_type": "code",
   "execution_count": null,
   "source": [
    "sometext = \"Hey you, how are you doing?\"\n",
    "print(sometext.rfind(\"you\"))"
   ],
   "outputs": [],
   "metadata": {}
  },
  {
   "cell_type": "markdown",
   "source": [
    "`rfind` regresa las últimas ocurrencias de una cadena. Así en `sometext` se encunetra la palabra \"you\" dos veces. `rfind` regresa `17` esto significa que la última ocurrencia de la palabra \"you\" empieza en la posición  17 (contando desde 0).\n",
    "\n",
    "Existen otras operaciones con las cadenas. Ejecute el código abajo y observa que hacen:"
   ],
   "metadata": {}
  },
  {
   "cell_type": "code",
   "execution_count": null,
   "source": [
    "# Cambia a mayúsculas\n",
    "print(sometext.upper())\n",
    "\n",
    "# Divide una cadena basado en un carácter y regresa esto como una lista de items. Aprenderás acerca de las listas posteriormente\n",
    "print(sometext.split(\",\"))\n",
    "\n",
    "# Reemplaza carácteres\n",
    "print(sometext.replace(\"?\",\"!\"))"
   ],
   "outputs": [],
   "metadata": {}
  },
  {
   "cell_type": "markdown",
   "source": [
    "Existen algunos carácteres especiales:\n",
    "\n",
    "`\\n` salta a una nueva línea\n",
    "\n",
    "`\\` es un caracter de escape. Puedes anteponerlo en algún carácter que tenga a un significado en el código y no sea considerado como una cadena. Es frecuente el uso de backslahes para las rutas de los archivos en Windows (e.g. `\"C:\\\\folder\\\\filename.txt\"`). Debido a que  `\\` es un carácter de escape necesitamos usar este dos veces para escapar el carácter!\n",
    "\n",
    "Ejemplos:"
   ],
   "metadata": {}
  },
  {
   "cell_type": "code",
   "execution_count": null,
   "source": [
    "print(\"This is a very long sentence and I want to split it into two lines.\")\n",
    "print(\"This is a very long sentence\\nand I want to split it into two lines.\")\n",
    "\n",
    "print(\"This sentence contains a quote and I don't want the string to end (yet)\\\"\")"
   ],
   "outputs": [],
   "metadata": {}
  },
  {
   "cell_type": "markdown",
   "source": [
    "## 2.6 Conclusiones\n",
    "Muy bien! Hemos entendido programas más largos, y conocido el uso de variables. También la manipulación de cadenas. La siguiente lección, revisaremos los Ciclos, que son y como los utilizaremos."
   ],
   "metadata": {}
  },
  {
   "cell_type": "markdown",
   "source": [
    "< ['programas' sencillos](PythonIntroCh1.ipynb) | [Contenidos](PythonIntro.ipynb) | [Ciclos, Ciclos, Ciclos, Ciclos...](PythonIntroCh3.ipynb) >"
   ],
   "metadata": {}
  },
  {
   "cell_type": "markdown",
   "source": [],
   "metadata": {}
  }
 ],
 "metadata": {
  "kernelspec": {
   "display_name": "Python 3",
   "language": "python",
   "name": "python3"
  },
  "language_info": {
   "codemirror_mode": {
    "name": "ipython",
    "version": 3
   },
   "file_extension": ".py",
   "mimetype": "text/x-python",
   "name": "python",
   "nbconvert_exporter": "python",
   "pygments_lexer": "ipython3",
   "version": "3.6.5"
  }
 },
 "nbformat": 4,
 "nbformat_minor": 2
}